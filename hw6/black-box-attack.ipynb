{
 "cells": [
  {
   "attachments": {},
   "cell_type": "markdown",
   "metadata": {
    "id": "qbrqttpJ3aS0"
   },
   "source": [
    "## Black-box attack exercise\n",
    "\n",
    "In this exercise, you will implement the following black-box attack.\n",
    "1. NES attack (NES)"
   ]
  },
  {
   "cell_type": "code",
   "execution_count": null,
   "metadata": {
    "id": "vIXEH7sy3aS6"
   },
   "outputs": [],
   "source": [
    "from google.colab import drive\n",
    "\n",
    "drive.mount('/content/drive', force_remount=True)\n",
    "\n",
    "# enter the foldername in your Drive where you have saved the unzipped\n",
    "# 'cs231n' folder containing the '.py', 'classifiers' and 'datasets'\n",
    "# folders.\n",
    "FOLDERNAME = '2025DL/hw6'\n",
    "\n",
    "assert FOLDERNAME is not None, \"[!] Enter the foldername.\"\n",
    "\n",
    "%cd /content/drive/MyDrive/$FOLDERNAME\n"
   ]
  },
  {
   "cell_type": "code",
   "execution_count": null,
   "metadata": {
    "id": "1bApjgwz3aS9"
   },
   "outputs": [],
   "source": [
    "import math\n",
    "import matplotlib.pyplot as plt\n",
    "import torch\n",
    "import torch.nn as nn\n",
    "import torch.optim as optim\n",
    "\n",
    "import torchvision.datasets as dset\n",
    "import torchvision.transforms as T\n",
    "import numpy as np\n",
    "from time import time\n",
    "\n",
    "from cifar10_input import CIFAR10Data\n",
    "\n",
    "%load_ext autoreload\n",
    "%autoreload 2"
   ]
  },
  {
   "attachments": {},
   "cell_type": "markdown",
   "metadata": {
    "id": "e_QxP-y23aS_"
   },
   "source": [
    "You have an option to **use GPU by setting the flag to True below**. Note that if your computer does not have CUDA enabled, `torch.cuda.is_available()` will return False and this notebook will fallback to CPU mode.\n",
    "\n",
    "The global variables `dtype` and `device` will control the data types throughout this assignment. "
   ]
  },
  {
   "cell_type": "code",
   "execution_count": null,
   "metadata": {
    "id": "G4F4pWbx3aTA"
   },
   "outputs": [],
   "source": [
    "USE_GPU = True\n",
    "\n",
    "if USE_GPU and torch.cuda.is_available():\n",
    "    device = torch.device('cuda')\n",
    "else:\n",
    "    device = torch.device('cpu')\n",
    "\n",
    "# Constant to control how frequently we print train loss\n",
    "print_every = 100\n",
    "print('using device:', device)"
   ]
  },
  {
   "attachments": {},
   "cell_type": "markdown",
   "metadata": {
    "id": "JlyGhAU53aTB"
   },
   "source": [
    "## Loading Cifar-10 test dataset"
   ]
  },
  {
   "cell_type": "code",
   "execution_count": null,
   "metadata": {
    "id": "f5clPE-k3aTB"
   },
   "outputs": [],
   "source": [
    "from mean_std import mean_torch, std_torch\n",
    "\n",
    "mean_torch = mean_torch.to(device=device)\n",
    "std_torch = std_torch.to(device=device)\n",
    "\n",
    "# Transform the test set to pytorch Tensor without augmentation\n",
    "transform_test = T.Compose([\n",
    "    T.ToTensor(),\n",
    "])\n",
    "\n",
    "cifar10_test = dset.CIFAR10('./datasets', train=False, download=True, \n",
    "                            transform=transform_test)"
   ]
  },
  {
   "cell_type": "code",
   "execution_count": null,
   "metadata": {
    "id": "nZqeaObQ3aTD"
   },
   "outputs": [],
   "source": [
    "def visualize(images, labels):\n",
    "    classes = ['plane', 'car', 'bird', 'cat', 'deer', 'dog', 'frog', 'horse', 'ship', 'truck']\n",
    "    for i in range(len(images)):\n",
    "        plt.subplot(2, (len(images) + 1) // 2, i + 1)\n",
    "        sample_image = images[i]\n",
    "        sample_label = labels[i]\n",
    "        plt.imshow(sample_image.astype('uint8'))\n",
    "        plt.axis('off')\n",
    "        plt.title(classes[sample_label])\n",
    "    plt.show()"
   ]
  },
  {
   "cell_type": "code",
   "execution_count": null,
   "metadata": {
    "id": "yeFMgAhE3aTE"
   },
   "outputs": [],
   "source": [
    "test_samples = [cifar10_test.data[i] for i in range(10)]\n",
    "test_labels = [cifar10_test.targets[i] for i in range(10)]\n",
    "print(\"Test Data:\")\n",
    "visualize(test_samples, test_labels)"
   ]
  },
  {
   "attachments": {},
   "cell_type": "markdown",
   "metadata": {
    "id": "3dvT0saP3aTF"
   },
   "source": [
    "## Restoring a naturally-trained ResNet classifier"
   ]
  },
  {
   "cell_type": "code",
   "execution_count": null,
   "metadata": {
    "id": "Bp1CgZOC3aTG",
    "scrolled": true
   },
   "outputs": [],
   "source": [
    "from models import resnet50 as resnet\n",
    "\n",
    "model = resnet(mean_torch, std_torch).to(device=device)\n",
    "\n",
    "# Evaluate the naturally-trained model on the first 1000 samples in the test dataset\n",
    "print('Loading pre-trained model')\n",
    "state_dict = torch.load('./pretrained/vanilla.pt', map_location=device)\n",
    "model.load_state_dict(state_dict)"
   ]
  },
  {
   "attachments": {},
   "cell_type": "markdown",
   "metadata": {
    "id": "0vjibXoL3aTH"
   },
   "source": [
    "## Evaluating the model\n",
    "\n",
    "Before implementing attack methods, we have to evaluate the model for the following reasons.\n",
    "1. To check whether the model is successfuly restored. \n",
    "2. To get samples that are correctly classified. We don't have to attack misclassified samples."
   ]
  },
  {
   "cell_type": "code",
   "execution_count": null,
   "metadata": {
    "id": "vT61mgdz3aTI"
   },
   "outputs": [],
   "source": [
    "def evaluate(model, dataset, indices, attack_method=None):\n",
    "    \"\"\"\n",
    "    Given the data specified by the indices, evaluate the model.\n",
    "    \n",
    "    Args:\n",
    "        model: pytorch model\n",
    "        dataset: Cifar-10 test dataset\n",
    "        indices: Indices that specifies the data\n",
    "        attack_method (optional): Instance of attack method, If it is not None, the attack method is applied before\n",
    "        evaluation.\n",
    "    \n",
    "    Returns:\n",
    "        correct_indices: list of 0 or 1. 1 if ith image was correctly predicted and 0 otherwise\n",
    "    \"\"\"\n",
    "    model.eval()\n",
    "    \n",
    "    is_correct = np.zeros([0], np.int32)\n",
    "    num_images = len(indices)\n",
    "    batch_size = 1\n",
    "    num_batches = int(math.ceil(num_images/batch_size))\n",
    "    \n",
    "    # Run batches\n",
    "    for batch in range(num_batches):\n",
    "        # Construct batch\n",
    "        bstart = batch*batch_size\n",
    "        bend = min(bstart+batch_size, num_images)\n",
    "        \n",
    "        image_batch = dataset.data[indices[bstart:bend]]\n",
    "        image_batch = torch.Tensor(np.transpose(image_batch, (0, 3, 1, 2))).to(device=device)\n",
    "\n",
    "        label_batch = np.array(dataset.targets)[indices[bstart:bend]]\n",
    "        label_batch = torch.Tensor(label_batch)\n",
    "        label_batch = label_batch.to(dtype=torch.int64)\n",
    "        \n",
    "        # Attack batch\n",
    "        if attack_method is not None:\n",
    "            image_batch = attack_method.perturb(image_batch, label_batch)\n",
    "            \n",
    "        # Evaluate batch\n",
    "        logit = model(image_batch)\n",
    "        _, predicted = torch.max(logit.data, 1)\n",
    "        \n",
    "        correct_prediction = (predicted.cpu().numpy() == label_batch.numpy())\n",
    "        is_correct = np.concatenate([is_correct, correct_prediction], axis=0)\n",
    "    \n",
    "    return is_correct"
   ]
  },
  {
   "cell_type": "code",
   "execution_count": null,
   "metadata": {
    "id": "ovPnJKrA3aTK"
   },
   "outputs": [],
   "source": [
    "print('Evaluating naturally-trained model')\n",
    "is_correct = evaluate(model, cifar10_test, np.arange(0, 1000))\n",
    "\n",
    "print('Accuracy: {:.1f}%'.format(sum(is_correct) / len(is_correct) * 100))\n",
    "\n",
    "correct_indices = np.where(is_correct==1)[0][:100]"
   ]
  },
  {
   "attachments": {},
   "cell_type": "markdown",
   "metadata": {
    "id": "cCg_SB2t3aTN"
   },
   "source": [
    "## Black-box attack with NES gradient estimation (NES)\n",
    "\n",
    "Now, we will implement NES attack, a black-box attack method proposed by [Ilyas et al.](https://arxiv.org/abs/1804.08598), which uses vector-wise gradient estimation technique called NES and then performs PGD with those estimated gradients.\n",
    "\n",
    "NES estimates the gradient by\n",
    "<center>$\\nabla_x L(\\theta, x, y) \\approx \\frac{1}{2 \\sigma n} \\sum_{i}^{n}(L(x+\\sigma u_i)-L(x-\\sigma u_i))u_i$</center>\n",
    "\n",
    "where each $u_i$ are image size random vectors sampled from standard normal distribution.\n",
    "\n",
    "\n",
    "Your code for this section will all be written inside `attacks/nes_attack`."
   ]
  },
  {
   "cell_type": "code",
   "execution_count": null,
   "metadata": {
    "id": "XLOUkTwL3aTO"
   },
   "outputs": [],
   "source": [
    "# First implement NES attack.\n",
    "# Open attacks/nes_attack.py and follow instructions in the file.\n",
    "from attacks.nes_attack import NESAttack\n",
    "\n",
    "epsilon = 8\n",
    "step_size = 2\n",
    "num_steps = 20\n",
    "criterion = 'cw'\n",
    "\n",
    "nes_attack = NESAttack(model, epsilon, step_size, num_steps, criterion, device)\n",
    "\n",
    "dataset = cifar10_test\n",
    "index = 0\n",
    "sample_image = np.transpose(dataset.data[correct_indices[index]], (2, 0, 1))\n",
    "sample_image = np.expand_dims(sample_image, axis=0)\n",
    "sample_image = torch.Tensor(sample_image)\n",
    "\n",
    "sample_label = dataset.targets[correct_indices[index]]\n",
    "sample_label = np.expand_dims(sample_label, axis=0)\n",
    "sample_label = torch.Tensor(sample_label).to(dtype=torch.int64)\n",
    "\n",
    "sample_adv_image = nes_attack.perturb(sample_image, sample_label)\n",
    "_, sample_adv_label = torch.max(model(sample_adv_image), 1)\n",
    "\n",
    "sample_image = sample_image.cpu().detach().numpy()\n",
    "sample_adv_image = sample_adv_image.cpu().detach().numpy()\n",
    "\n",
    "assert np.amax(np.abs(sample_image-sample_adv_image)) <= epsilon\n",
    "assert np.amin(sample_adv_image) >= 0\n",
    "assert np.amax(sample_adv_image) <= 255\n",
    "\n",
    "# Plot the original image\n",
    "sample_image = [np.transpose(image, (1,2,0)) for image in sample_image]\n",
    "visualize(sample_image, sample_label)\n",
    "\n",
    "# Plot the adversarial image\n",
    "sample_adv_image = [np.transpose(image, (1,2,0)) for image in sample_adv_image]\n",
    "visualize(sample_adv_image, sample_adv_label)"
   ]
  },
  {
   "attachments": {},
   "cell_type": "markdown",
   "metadata": {
    "id": "c8xZs4U33aTP"
   },
   "source": [
    "# Evaluate performance on a naturally-trained model\n",
    "\n",
    "Let's measure your attack's performance to check if you implemented it right. Also watch the attack success rate change as epsilon gets larger. If correctly implemented, the success rate will be about 70% or higher on epsilon 8. (Keep in mind that NES attack in our implementation attacks one image at a time, so the evaluation will take much longer than FGSM or PGD. Evaluation on a single epsilon may take up to 10 min.)"
   ]
  },
  {
   "cell_type": "code",
   "execution_count": null,
   "metadata": {
    "id": "YNe1DNF83aTQ"
   },
   "outputs": [],
   "source": [
    "epsilons = [0, 2, 4, 6, 8, 10]\n",
    "attack_success_rates = []\n",
    "criterion = 'cw'\n",
    "\n",
    "for epsilon in epsilons:\n",
    "    nes_attack = NESAttack(model, epsilon, step_size, num_steps, criterion, device)\n",
    "    correct_predictions = evaluate(model, cifar10_test, correct_indices, attack_method=nes_attack)\n",
    "    attack_success_rate = np.mean(1 - correct_predictions) * 100\n",
    "    attack_success_rates.append(attack_success_rate)\n",
    "    print('Epsilon: {}, Attack success rate: {:.1f}%'.format(epsilon, attack_success_rate))\n",
    "\n",
    "plt.plot(epsilons, attack_success_rates, '-bo', label='NES (cw loss)')\n",
    "plt.ylim(-5, 105)\n",
    "plt.xticks(epsilons)\n",
    "plt.yticks(np.arange(0, 110, 10))\n",
    "plt.xlabel('epsilon')\n",
    "plt.ylabel('attack success rate')\n",
    "plt.legend()"
   ]
  },
  {
   "attachments": {},
   "cell_type": "markdown",
   "metadata": {
    "id": "-rAv_ufh3aTR"
   },
   "source": [
    "# Attacks on adversarially-trained model"
   ]
  },
  {
   "cell_type": "code",
   "execution_count": null,
   "metadata": {
    "id": "Cdf1cWZy3aTR",
    "scrolled": true
   },
   "outputs": [],
   "source": [
    "# Create a naturally-trained model\n",
    "print('Creating a ResNet model')\n",
    "model = resnet(mean_torch, std_torch).to(device)\n",
    "\n",
    "# Load an advarsarially-trained model\n",
    "print('Loading an adversarially-trained model')\n",
    "state_dict = torch.load(\"./pretrained/adv.pt\", map_location=device)\n",
    "model.load_state_dict(state_dict)\n"
   ]
  },
  {
   "cell_type": "code",
   "execution_count": null,
   "metadata": {
    "id": "twmtkITo3aTT"
   },
   "outputs": [],
   "source": [
    "# Evaluate the adversarially-trained model on the first 1000 samples in the test dataset\n",
    "indices = np.arange(0, 1000)\n",
    "\n",
    "print('Evaluating adversarially-trained model')\n",
    "correct_predictions = evaluate(model, cifar10_test, indices)\n",
    "accuracy = np.mean(correct_predictions) * 100\n",
    "print('Accuracy: {:.1f}%'.format(accuracy))\n",
    "\n",
    "# Select the first 100 samples that are correctly classified.\n",
    "correct_indices = np.where(correct_predictions==1)[0][:100]"
   ]
  },
  {
   "attachments": {},
   "cell_type": "markdown",
   "metadata": {
    "id": "cUkxpKDS3aTT"
   },
   "source": [
    "# Evaluate performance on an adversarially-trained model\n",
    "\n",
    "This time you will check the same attack's performance on an adversarially-trained model. Check for differences on the success rate."
   ]
  },
  {
   "cell_type": "code",
   "execution_count": null,
   "metadata": {
    "id": "iUdimtyO3aTY"
   },
   "outputs": [],
   "source": [
    "epsilons = [0, 2, 4, 6, 8, 10]\n",
    "attack_success_rates = []\n",
    "\n",
    "for epsilon in epsilons:\n",
    "    nes_attack = NESAttack(model, epsilon, step_size, num_steps, criterion, device)\n",
    "    correct_predictions = evaluate(model, cifar10_test, correct_indices, attack_method=nes_attack)\n",
    "    attack_success_rate = np.mean(1 - correct_predictions) * 100\n",
    "    attack_success_rates.append(attack_success_rate)\n",
    "    print('Epsilon: {}, Attack success rate: {:.1f}%'.format(epsilon, attack_success_rate))\n",
    "\n",
    "plt.plot(epsilons, attack_success_rates, '-bo', label='NES (cw loss)')\n",
    "plt.ylim(-5, 105)\n",
    "plt.xticks(epsilons)\n",
    "plt.yticks(np.arange(0, 110, 10))\n",
    "plt.xlabel('epsilon')\n",
    "plt.ylabel('attack success rate')\n",
    "plt.legend()"
   ]
  }
 ],
 "metadata": {
  "accelerator": "GPU",
  "anaconda-cloud": {},
  "colab": {
   "collapsed_sections": [],
   "name": "black-box-attack.ipynb",
   "provenance": []
  },
  "interpreter": {
   "hash": "9dd721613fb21c58a58d9d83cf55d6352974469ab93d835a501eeacc00c44696"
  },
  "kernelspec": {
   "display_name": "Python 3 (ipykernel)",
   "language": "python",
   "name": "python3"
  },
  "language_info": {
   "codemirror_mode": {
    "name": "ipython",
    "version": 3
   },
   "file_extension": ".py",
   "mimetype": "text/x-python",
   "name": "python",
   "nbconvert_exporter": "python",
   "pygments_lexer": "ipython3",
   "version": "3.10.16"
  }
 },
 "nbformat": 4,
 "nbformat_minor": 4
}
