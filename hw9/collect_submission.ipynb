{
 "cells": [
  {
   "cell_type": "code",
   "execution_count": null,
   "metadata": {
    "colab": {
     "base_uri": "https://localhost:8080/"
    },
    "executionInfo": {
     "elapsed": 18536,
     "status": "ok",
     "timestamp": 1627482715462,
     "user": {
      "displayName": "이준혁",
      "photoUrl": "",
      "userId": "17310320802357401998"
     },
     "user_tz": -540
    },
    "id": "EwWATMeNELgy",
    "outputId": "244c49a3-c680-4079-df25-6a592c14af01"
   },
   "outputs": [],
   "source": [
    "from google.colab import drive\n",
    "\n",
    "drive.mount('/content/drive', force_remount=True)\n",
    "\n",
    "# enter the path in your Drive\n",
    "FOLDERNAME = \"hw9\"\n",
    "\n",
    "assert FOLDERNAME is not None, \"[!] Enter the foldername.\""
   ]
  },
  {
   "attachments": {},
   "cell_type": "markdown",
   "metadata": {
    "id": "cANfVsELELg2"
   },
   "source": [
    "# Collect Submission - Zip + Generate PDF \n",
    "\n",
    "Run this notebook once you have completed all the other notebooks\n",
    "\n",
    "It will:\n",
    "\n",
    "* Generate a zip file of your code (`.py` and `.ipynb`) called `hw9.zip`.\n",
    "* Convert all notebooks into a single PDF file called `assignment.pdf`.\n",
    "\n",
    "If your submission for this step was successful, you should see the following display message:\n",
    "\n",
    "### Done! Please submit hw9.zip and the pdfs to ETL. ###\n",
    "\n",
    "Make sure to download the zip and pdf file locally to your computer, then submit to Gradescope. Congrats on succesfully completing the assignment!"
   ]
  },
  {
   "cell_type": "code",
   "execution_count": null,
   "metadata": {
    "colab": {
     "base_uri": "https://localhost:8080/"
    },
    "executionInfo": {
     "elapsed": 42971,
     "status": "ok",
     "timestamp": 1627484715724,
     "user": {
      "displayName": "이준혁",
      "photoUrl": "",
      "userId": "17310320802357401998"
     },
     "user_tz": -540
    },
    "id": "ALMByNtZELg3",
    "outputId": "d4a1fb3c-7122-4697-bc46-35d5a3dbd8d5"
   },
   "outputs": [],
   "source": [
    "%cd /content/drive/MyDrive/$FOLDERNAME\n",
    "!sudo apt-get update\n",
    "!sudo apt-get install texlive-xetex texlive-fonts-recommended texlive-plain-generic pandoc\n",
    "!pip install PyPDF2==2.9\n",
    "!bash collectSubmission.sh"
   ]
  }
 ],
 "metadata": {
  "colab": {
   "collapsed_sections": [],
   "name": "collect_submission.ipynb",
   "provenance": []
  },
  "kernelspec": {
   "display_name": "Python 3 (ipykernel)",
   "language": "python",
   "name": "python3"
  },
  "language_info": {
   "codemirror_mode": {
    "name": "ipython",
    "version": 3
   },
   "file_extension": ".py",
   "mimetype": "text/x-python",
   "name": "python",
   "nbconvert_exporter": "python",
   "pygments_lexer": "ipython3",
   "version": "3.10.16"
  }
 },
 "nbformat": 4,
 "nbformat_minor": 4
}
